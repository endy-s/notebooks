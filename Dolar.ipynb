{
 "cells": [
  {
   "cell_type": "code",
   "execution_count": 8,
   "metadata": {},
   "outputs": [],
   "source": [
    "import http.client\n",
    "import json\n",
    "import pprint\n",
    "import collections\n",
    "\n",
    "start_date='2019-01-01'\n",
    "end_date='2030-01-01'\n",
    "\n",
    "connection = http.client.HTTPSConnection(\"api.exchangeratesapi.io\", timeout=2)\n",
    "connection.request('GET', \"\"\"/history?start_at={start}&end_at={end}&base=USD&symbols=BRL\"\"\".format(start=start_date, end=end_date))\n",
    "response = connection.getresponse()\n",
    "json_content = json.loads(response.read())\n",
    "rates = json_content[\"rates\"]\n",
    "# pprint.pprint(rates)"
   ]
  },
  {
   "cell_type": "code",
   "execution_count": 9,
   "metadata": {},
   "outputs": [],
   "source": [
    "def group_by_month(dictionary):\n",
    "    output = {}\n",
    "    for key in dictionary:\n",
    "        month_key = key[:7]\n",
    "        day = int(key[8:])\n",
    "        if month_key in output:\n",
    "            rate_list = output[month_key]\n",
    "            rate_list[day] = dictionary[key]['BRL']\n",
    "            output[month_key] = rate_list\n",
    "        else:\n",
    "            output[month_key] = {day: dictionary[key]['BRL']}\n",
    "    return output\n",
    "\n",
    "def normalize_values(dictionary, min_value, max_value):\n",
    "    delta = max_value - min_value\n",
    "    for key in dictionary:\n",
    "        value = dictionary[key]\n",
    "        if (delta != 0):\n",
    "            dictionary[key] = (value - min_value)/delta\n",
    "        else:\n",
    "            dictionary[key] = 1\n",
    "    return dictionary\n",
    "        \n",
    "\n",
    "def make_rates_relative(grouped_rates):\n",
    "    output = {}\n",
    "    for key in grouped_rates:\n",
    "        values = grouped_rates[key]\n",
    "        min_rate = 10000\n",
    "        max_rate = -1\n",
    "        for day_key in values:\n",
    "            rate = values[day_key]\n",
    "            if rate < min_rate:\n",
    "                min_rate = rate\n",
    "            if rate > max_rate:\n",
    "                max_rate = rate\n",
    "        grouped_rates[key] = normalize_values(values, min_rate, max_rate)\n",
    "    return grouped_rates\n",
    "            \n",
    "\n",
    "grouped_values = group_by_month(rates)\n",
    "normalized_values = make_rates_relative(grouped_values)\n",
    "# pprint.pprint(normalized_values)"
   ]
  },
  {
   "cell_type": "code",
   "execution_count": 10,
   "metadata": {},
   "outputs": [],
   "source": [
    "def group_by_day(month_dict):\n",
    "    output = {}\n",
    "    for month in month_dict:\n",
    "        month_value = month_dict[month]\n",
    "        for day in month_value:\n",
    "            rate = month_value[day]\n",
    "            if day in output:\n",
    "                output[day].append(rate)\n",
    "            else:\n",
    "                output[day] = [rate]\n",
    "    return output\n",
    "\n",
    "values_per_day = group_by_day(normalized_values)"
   ]
  },
  {
   "cell_type": "code",
   "execution_count": 18,
   "metadata": {},
   "outputs": [],
   "source": [
    "import matplotlib.pyplot as plt\n",
    "import pandas as pd\n",
    "import operator\n",
    "import numpy as np\n",
    "\n",
    "data = {}\n",
    "for key in values_per_day:\n",
    "    value = values_per_day[key]\n",
    "    data[key] = sum(value)/len(value)\n",
    "\n",
    "lists = sorted(data.items()) # sorted by key, return a list of tuples\n",
    "\n",
    "ordered_by_value = sorted(data.items(), key = operator.itemgetter(1),reverse = True)"
   ]
  },
  {
   "cell_type": "code",
   "execution_count": 19,
   "metadata": {},
   "outputs": [
    {
     "name": "stdout",
     "output_type": "stream",
     "text": [
      "The Relative Value is between the min and max USD->BRL values in a given month\n",
      "\n",
      "\n"
     ]
    },
    {
     "data": {
      "image/png": "[encoded data removed]",
      "text/plain": [
       "<Figure size 1440x360 with 1 Axes>"
      ]
     },
     "metadata": {
      "needs_background": "light"
     },
     "output_type": "display_data"
    },
    {
     "name": "stdout",
     "output_type": "stream",
     "text": [
      "The day with highest value probability is the 27 with a value of 0.6523516063316553\n",
      "The day with lowest value probability is the 5 with a value of 0.2588796858092467\n"
     ]
    }
   ],
   "source": [
    "x, y = zip(*lists) # unpack a list of pairs into two tuples\n",
    "\n",
    "print('The Relative Value is between the min and max USD->BRL values in a given month\\n\\n')\n",
    "\n",
    "plt.figure(figsize=(20,5))\n",
    "plt.xticks(np.arange(min(x), max(x)+1, 1.0))\n",
    "plt.plot(x, y)\n",
    "plt.title(label=\"From {start} to {end}\".format(start=start_date, end=end_date))\n",
    "plt.ylim((0,1))\n",
    "plt.ylabel('Relative value')\n",
    "plt.xlabel('Day of Month')\n",
    "plt.show()\n",
    "\n",
    "best_day = ordered_by_value[0]\n",
    "print('The day with highest value probability is the ' + str(best_day[0]) + ' with a value of ' + str(best_day[1]))\n",
    "worst_day = ordered_by_value[-1]\n",
    "print('The day with lowest value probability is the ' + str(worst_day[0]) + ' with a value of ' + str(worst_day[1]))"
   ]
  },
  {
   "cell_type": "code",
   "execution_count": null,
   "metadata": {},
   "outputs": [],
   "source": []
  }
 ],
 "metadata": {
  "kernelspec": {
   "display_name": "Python 3",
   "language": "python",
   "name": "python3"
  },
  "language_info": {
   "codemirror_mode": {
    "name": "ipython",
    "version": 3
   },
   "file_extension": ".py",
   "mimetype": "text/x-python",
   "name": "python",
   "nbconvert_exporter": "python",
   "pygments_lexer": "ipython3",
   "version": "3.6.8"
  }
 },
 "nbformat": 4,
 "nbformat_minor": 4
}
